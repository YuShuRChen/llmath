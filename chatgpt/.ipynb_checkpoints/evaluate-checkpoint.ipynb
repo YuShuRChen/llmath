{
 "cells": [
  {
   "cell_type": "code",
   "execution_count": 3,
   "id": "215d6251-6a62-4638-841b-acdc46439dff",
   "metadata": {
    "ExecuteTime": {
     "end_time": "2024-08-25T05:16:34.758315Z",
     "start_time": "2024-08-25T05:16:34.496761Z"
    }
   },
   "outputs": [
    {
     "ename": "SyntaxError",
     "evalue": "invalid syntax (3961516228.py, line 2)",
     "output_type": "error",
     "traceback": [
      "\u001b[0;36m  Cell \u001b[0;32mIn[3], line 2\u001b[0;36m\u001b[0m\n\u001b[0;31m    from ../../metric import pr_score\u001b[0m\n\u001b[0m           ^\u001b[0m\n\u001b[0;31mSyntaxError\u001b[0m\u001b[0;31m:\u001b[0m invalid syntax\n"
     ]
    }
   ],
   "source": [
    "import pandas as pd\n",
    "from metric import pr_score"
   ]
  },
  {
   "cell_type": "code",
   "execution_count": null,
   "id": "1b978e13-7e0c-48c1-ae5f-b8807c055e24",
   "metadata": {
    "ExecuteTime": {
     "end_time": "2024-08-25T05:16:34.772574Z",
     "start_time": "2024-08-25T05:16:34.762469Z"
    }
   },
   "outputs": [],
   "source": [
    "test = \"tra0_gpt-4o_10-2-17\"\n",
    "response = pd.read_csv(f'responses/{test}/{test}_summary_formatted.csv')\n",
    "equations = []\n",
    "answers = []\n",
    "for i, row in response.iterrows():\n",
    "    for j in range(2, 17):\n",
    "        equations.append(row[f'equation_{{{j}}}'][:-1])\n",
    "        if pd.isna(row[f'answer_{{{j}}}']):\n",
    "            answers.append([])\n",
    "        else:\n",
    "            answers.append(row[f'answer_{{{j}}}'].split(\"=\"))"
   ]
  },
  {
   "cell_type": "code",
   "execution_count": null,
   "id": "88dcb23559d50c78",
   "metadata": {
    "ExecuteTime": {
     "end_time": "2024-08-25T05:16:34.780733Z",
     "start_time": "2024-08-25T05:16:34.776718Z"
    }
   },
   "outputs": [],
   "source": [
    "from utils import _check_equation_format, _check_number_format, check_format\n",
    "\n",
    "# check if response initial equation doesn't match actual equation\n",
    "print(\"responses where equation doesn't match original equation: \")\n",
    "for i, equation in enumerate(equations):\n",
    "    if len(answers[i]) == 0 or equation != answers[i][0]:\n",
    "        print(equation, answers[i])\n",
    "\n",
    "# check format of each equation and response\n",
    "print(\"equations or responses that have incorrect formats: \")\n",
    "for equation in equations:\n",
    "    try:\n",
    "        _check_equation_format(equation)\n",
    "    except:\n",
    "        print(equation)\n",
    "for answer in answers:\n",
    "    for equation in answer:\n",
    "        if len(check_format(equation)) == 0:\n",
    "            print(equation)"
   ]
  },
  {
   "cell_type": "code",
   "execution_count": null,
   "id": "4deb3f1f4380fd8b",
   "metadata": {
    "ExecuteTime": {
     "end_time": "2024-08-25T05:16:34.783876Z",
     "start_time": "2024-08-25T05:16:34.781436Z"
    }
   },
   "outputs": [],
   "source": [
    "for answer in answers:\n",
    "    print(answer)"
   ]
  },
  {
   "cell_type": "code",
   "execution_count": null,
   "id": "1b461331-704f-4d10-ac90-5763b1b95898",
   "metadata": {
    "ExecuteTime": {
     "end_time": "2024-08-25T05:16:34.987111Z",
     "start_time": "2024-08-25T05:16:34.785682Z"
    }
   },
   "outputs": [],
   "source": [
    "score, _ = pr_score(equations, answers, pr_ratio=0)\n",
    "print(\"pr_ratio=0:\\t\\t\", score)\n",
    "score, graded = pr_score(equations, answers)\n",
    "print(\"pr_ratio=0.4:\\t\", score)\n",
    "score, _ = pr_score(equations, answers, pr_ratio=1)\n",
    "print(\"pr_ratio=1:\\t\\t\", score)"
   ]
  },
  {
   "cell_type": "code",
   "execution_count": null,
   "id": "5790ce85-c103-4528-916b-59b8e3c5ca1e",
   "metadata": {
    "ExecuteTime": {
     "end_time": "2024-08-25T05:18:39.342241Z",
     "start_time": "2024-08-25T05:18:39.336797Z"
    }
   },
   "outputs": [],
   "source": [
    "# print(graded[list(graded.keys())[0]].keys())\n",
    "# print(graded[equations[0]]['pr_score:0.4'])\n",
    "for x in equations:\n",
    "    if graded[x]['pr_score:0.4'] == 0:\n",
    "        print(x)\n",
    "        print(graded[x]['y_process'])"
   ]
  },
  {
   "cell_type": "code",
   "execution_count": null,
   "id": "e8e16240-3add-4d5d-a9cc-b4a9fdf033c5",
   "metadata": {
    "ExecuteTime": {
     "end_time": "2024-08-25T05:16:34.991798Z",
     "start_time": "2024-08-25T05:16:34.990154Z"
    }
   },
   "outputs": [],
   "source": [
    "# for i in range(len(compare)):\n",
    "#     display(compare[i].rename(columns={\"self\": f'answer_{{{i+2}}}', \"other\": f'response_{{{i+2}}}'}))"
   ]
  },
  {
   "cell_type": "code",
   "execution_count": null,
   "id": "ddafe398aa8ec982",
   "metadata": {
    "ExecuteTime": {
     "end_time": "2024-08-25T05:16:34.993960Z",
     "start_time": "2024-08-25T05:16:34.992488Z"
    }
   },
   "outputs": [],
   "source": []
  }
 ],
 "metadata": {
  "kernelspec": {
   "display_name": "Python 3 (ipykernel)",
   "language": "python",
   "name": "python3"
  },
  "language_info": {
   "codemirror_mode": {
    "name": "ipython",
    "version": 3
   },
   "file_extension": ".py",
   "mimetype": "text/x-python",
   "name": "python",
   "nbconvert_exporter": "python",
   "pygments_lexer": "ipython3",
   "version": "3.12.4"
  }
 },
 "nbformat": 4,
 "nbformat_minor": 5
}
