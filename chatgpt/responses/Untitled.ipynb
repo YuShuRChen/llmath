{
 "cells": [
  {
   "metadata": {
    "ExecuteTime": {
     "end_time": "2024-07-18T16:49:31.607844Z",
     "start_time": "2024-07-18T16:49:31.339262Z"
    }
   },
   "cell_type": "code",
   "source": "import pandas as pd",
   "id": "de68d9cb8cfd4a9f",
   "outputs": [],
   "execution_count": 1
  },
  {
   "metadata": {
    "ExecuteTime": {
     "end_time": "2024-07-18T16:49:31.648765Z",
     "start_time": "2024-07-18T16:49:31.610196Z"
    }
   },
   "cell_type": "code",
   "source": [
    "df = pd.read_csv('tra0_gpt-3.5-turbo_10-2-17.csv')\n",
    "df_answer = pd.read_csv('../../dataset/test_random_add_0.csv')"
   ],
   "id": "639183e360b63dea",
   "outputs": [],
   "execution_count": 2
  },
  {
   "metadata": {
    "ExecuteTime": {
     "end_time": "2024-07-18T16:49:31.652378Z",
     "start_time": "2024-07-18T16:49:31.649371Z"
    }
   },
   "cell_type": "code",
   "source": [
    "desired_columns = [f'equation_{{{i}}}' for i in range(2, 17)] + [f'answer_{{{i}}}' for i in range(2, 17)]\n",
    "df_subset = df[desired_columns][:10]"
   ],
   "id": "8067d98a532bd794",
   "outputs": [],
   "execution_count": 3
  },
  {
   "metadata": {
    "ExecuteTime": {
     "end_time": "2024-07-18T16:49:31.654878Z",
     "start_time": "2024-07-18T16:49:31.653019Z"
    }
   },
   "cell_type": "code",
   "source": [
    "# display(df_subset)\n",
    "# display(df_answer[desired_columns][:10])"
   ],
   "id": "5cc30231d4471d02",
   "outputs": [],
   "execution_count": 4
  },
  {
   "metadata": {
    "ExecuteTime": {
     "end_time": "2024-07-18T16:49:31.669772Z",
     "start_time": "2024-07-18T16:49:31.656084Z"
    }
   },
   "cell_type": "code",
   "source": [
    "for base in range(2, 17):\n",
    "    for i in range(10):\n",
    "        with open(f\"tra0_gpt-3.5-turbo_10-2-17/{df_answer[f\"equation_{{{base}}}\"][i]}{df_answer[f\"answer_{{{base}}}\"][i]}\", \"w\") as f:\n",
    "            f.write(df_subset[f\"answer_{{{base}}}\"][i])"
   ],
   "id": "271a6bbf167c0d05",
   "outputs": [],
   "execution_count": 5
  },
  {
   "metadata": {
    "ExecuteTime": {
     "end_time": "2024-07-18T16:49:31.671548Z",
     "start_time": "2024-07-18T16:49:31.670360Z"
    }
   },
   "cell_type": "code",
   "source": "",
   "id": "d1d04a385fad2437",
   "outputs": [],
   "execution_count": 5
  }
 ],
 "metadata": {
  "kernelspec": {
   "name": "python3",
   "language": "python",
   "display_name": "Python 3 (ipykernel)"
  }
 },
 "nbformat": 4,
 "nbformat_minor": 5
}
