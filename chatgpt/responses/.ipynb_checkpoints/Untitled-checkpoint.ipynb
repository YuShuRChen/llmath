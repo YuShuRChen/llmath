{
 "cells": [
  {
   "cell_type": "code",
   "execution_count": 1,
   "id": "de68d9cb8cfd4a9f",
   "metadata": {
    "ExecuteTime": {
     "end_time": "2024-08-14T04:28:12.266646Z",
     "start_time": "2024-08-14T04:28:12.262358Z"
    }
   },
   "outputs": [],
   "source": [
    "import pandas as pd"
   ]
  },
  {
   "cell_type": "code",
   "execution_count": 2,
   "id": "639183e360b63dea",
   "metadata": {
    "ExecuteTime": {
     "end_time": "2024-08-14T04:28:13.220730Z",
     "start_time": "2024-08-14T04:28:13.167314Z"
    }
   },
   "outputs": [],
   "source": [
    "file = 'tra0_gpt-3.5-turbo_10-2-17'\n",
    "df_answer = pd.read_csv('../../dataset/test_random_add_0.csv')\n",
    "df_response = pd.read_csv(file + '/' + file + '.csv')"
   ]
  },
  {
   "cell_type": "code",
   "execution_count": 3,
   "id": "8067d98a532bd794",
   "metadata": {
    "ExecuteTime": {
     "end_time": "2024-08-14T04:28:14.478016Z",
     "start_time": "2024-08-14T04:28:14.474549Z"
    }
   },
   "outputs": [],
   "source": [
    "desired_columns = [f'equation_{{{i}}}' for i in range(2, 17)] + [f'answer_{{{i}}}' for i in range(2, 17)]"
   ]
  },
  {
   "cell_type": "code",
   "execution_count": 4,
   "id": "5cc30231d4471d02",
   "metadata": {
    "ExecuteTime": {
     "end_time": "2024-08-14T04:28:14.947620Z",
     "start_time": "2024-08-14T04:28:14.945548Z"
    }
   },
   "outputs": [],
   "source": [
    "# display(df_answer[desired_columns][:1])\n",
    "# display(df_response[desired_columns][:1])"
   ]
  },
  {
   "cell_type": "code",
   "execution_count": 5,
   "id": "271a6bbf167c0d05",
   "metadata": {
    "ExecuteTime": {
     "end_time": "2024-08-14T04:28:16.261346Z",
     "start_time": "2024-08-14T04:28:16.258369Z"
    }
   },
   "outputs": [],
   "source": [
    "# for base in range(2, 17):\n",
    "#     for i in range(10):\n",
    "#         with open(f\"{file}/{df_answer[f\"equation_{{{base}}}\"][i]}{df_answer[f\"answer_{{{base}}}\"][i]}\", \"w\") as f:\n",
    "#             f.write(df_subset[f\"answer_{{{base}}}\"][i])"
   ]
  }
 ],
 "metadata": {
  "kernelspec": {
   "display_name": "Python 3 (ipykernel)",
   "language": "python",
   "name": "python3"
  },
  "language_info": {
   "codemirror_mode": {
    "name": "ipython",
    "version": 3
   },
   "file_extension": ".py",
   "mimetype": "text/x-python",
   "name": "python",
   "nbconvert_exporter": "python",
   "pygments_lexer": "ipython3",
   "version": "3.12.4"
  }
 },
 "nbformat": 4,
 "nbformat_minor": 5
}
