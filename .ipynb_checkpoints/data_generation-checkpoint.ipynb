{
 "cells": [
  {
   "cell_type": "code",
   "execution_count": 1,
   "id": "3d9e3379-0929-4c26-892e-fd018c3cbd9e",
   "metadata": {},
   "outputs": [],
   "source": [
    "import numpy as np\n",
    "import pandas as pd\n",
    "import random\n",
    "\n",
    "import utils"
   ]
  },
  {
   "cell_type": "code",
   "execution_count": 2,
   "id": "390499dd-537c-46de-bbe9-417431f23acb",
   "metadata": {},
   "outputs": [],
   "source": [
    "def generate_data(n=1000):\n",
    "    data = []\n",
    "    for i in range(n):\n",
    "        data.append(generate_add_example(seed=i))\n",
    "    data = pd.DataFrame(data)\n",
    "    return data"
   ]
  },
  {
   "cell_type": "code",
   "execution_count": 3,
   "id": "7bcff482-1942-4ea0-ba5e-cae5ac9e72e1",
   "metadata": {},
   "outputs": [],
   "source": [
    "def generate_add_example(start=0, end=len(utils.BASE_DIGITS)**3-1, seed=0):\n",
    "    data = pd.Series()\n",
    "    random.seed(seed)\n",
    "    a = random.randint(start, end)\n",
    "    b = random.randint(start, end)\n",
    "    c = a + b\n",
    "    for base in np.arange(2, len(utils.BASE_DIGITS)+1):\n",
    "        data[f\"equation_{{{base}}}\"] = f\"{utils.convert_base(a, base)}_{{{base}}}+{utils.convert_base(b, base)}_{{{base}}}=\"\n",
    "        data[f\"answer_{{{base}}}\"] = f\"{utils.convert_base(c, base)}_{{{base}}}\"\n",
    "    return data"
   ]
  },
  {
   "cell_type": "code",
   "execution_count": 4,
   "id": "5ce95ba3-7cda-4cf4-a3b9-2bbb7361afb7",
   "metadata": {},
   "outputs": [],
   "source": [
    "data = generate_data()\n",
    "data.to_csv(\"add_data.csv\", index=False)"
   ]
  },
  {
   "cell_type": "code",
   "execution_count": 5,
   "id": "50227a11-b32e-472e-9c8c-ce38011f8538",
   "metadata": {},
   "outputs": [],
   "source": [
    "# def check_addition_correctness_in_base(a, b, base):\n",
    "#     a = a[::-1]\n",
    "#     b = b[::-1]\n",
    "\n",
    "#     carry = 0\n",
    "#     result = []\n",
    "#     # Perform addition digit by digit\n",
    "#     for i in range(max(len(a), len(b))):\n",
    "#         digit_sum = carry\n",
    "#         if i < len(a):\n",
    "#             digit_sum += (a[i])\n",
    "#         if i < len(b):\n",
    "#             digit_sum += int(b[i], base)\n",
    "#         carry = digit_sum // base\n",
    "#         digit_sum %= base\n",
    "#         result.append(str(digit_sum))\n",
    "\n",
    "#     # Add the last carry if there's any\n",
    "#     if carry:\n",
    "#         result.append(str(carry))\n",
    "\n",
    "#     # Reverse the result to get the correct order\n",
    "#     result = ''.join(result[::-1])\n",
    "\n",
    "#     return result"
   ]
  },
  {
   "cell_type": "code",
   "execution_count": 6,
   "id": "136948ea-594c-4a5b-8c35-3ed032444930",
   "metadata": {},
   "outputs": [],
   "source": [
    "# a = '10'  # Number in base 5\n",
    "# b = '20'  # Number in base 5\n",
    "# base = 5\n",
    "# sum_in_base = '30'  # Expected sum in base 5\n",
    "# print(check_addition_correctness_in_base(a, b, base) == sum_in_base)  # Output: True"
   ]
  }
 ],
 "metadata": {
  "kernelspec": {
   "display_name": "Python 3 (ipykernel)",
   "language": "python",
   "name": "python3"
  },
  "language_info": {
   "codemirror_mode": {
    "name": "ipython",
    "version": 3
   },
   "file_extension": ".py",
   "mimetype": "text/x-python",
   "name": "python",
   "nbconvert_exporter": "python",
   "pygments_lexer": "ipython3",
   "version": "3.11.8"
  }
 },
 "nbformat": 4,
 "nbformat_minor": 5
}
