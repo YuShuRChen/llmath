{
 "cells": [
  {
   "cell_type": "code",
   "id": "3d9e3379-0929-4c26-892e-fd018c3cbd9e",
   "metadata": {
    "ExecuteTime": {
     "end_time": "2024-07-28T21:41:16.295538Z",
     "start_time": "2024-07-28T21:41:15.923429Z"
    }
   },
   "source": [
    "import numpy as np\n",
    "import pandas as pd\n",
    "import random\n",
    "\n",
    "import utils"
   ],
   "outputs": [],
   "execution_count": 1
  },
  {
   "cell_type": "code",
   "id": "390499dd-537c-46de-bbe9-417431f23acb",
   "metadata": {
    "ExecuteTime": {
     "end_time": "2024-07-28T21:41:16.298992Z",
     "start_time": "2024-07-28T21:41:16.296455Z"
    }
   },
   "source": [
    "def generate_test_random_add_dataset(start=0, end=len(utils.DIGITS)**3-1, n=1000, seed=0):\n",
    "    dataset = []\n",
    "    random.seed(seed)\n",
    "    for i in range(n):\n",
    "        data = pd.Series()\n",
    "        a = random.randint(start, end)\n",
    "        b = random.randint(start, end)\n",
    "        c = a - b\n",
    "        for base in np.arange(2, len(utils.DIGITS)+1):\n",
    "            data[f\"equation_{{{base}}}\"] = f\"{utils.convert_base(f\"{a}_{{{10}}}\", to_base=base)}-{utils.convert_base(f\"{b}_{{{10}}}\", to_base=base)}=\"\n",
    "            data[f\"answer_{{{base}}}\"] = f\"{utils.convert_base(f\"{c}_{{{10}}}\", to_base=base)}\"\n",
    "        dataset.append(data)\n",
    "    dataset = pd.DataFrame(dataset)\n",
    "    return dataset"
   ],
   "outputs": [],
   "execution_count": 2
  },
  {
   "metadata": {
    "ExecuteTime": {
     "end_time": "2024-07-28T21:49:28.178274Z",
     "start_time": "2024-07-28T21:49:22.141784Z"
    }
   },
   "cell_type": "code",
   "source": [
    "# seed=5\n",
    "# generate_test_random_add_dataset(seed=seed).to_csv(f\"test_random_subtract_{seed}.csv\", index=False)"
   ],
   "id": "ac1aa2b79fef7d57",
   "outputs": [],
   "execution_count": 17
  },
  {
   "metadata": {
    "ExecuteTime": {
     "end_time": "2024-07-28T21:49:28.215723Z",
     "start_time": "2024-07-28T21:49:28.179247Z"
    }
   },
   "cell_type": "code",
   "source": [
    "# df = pd.read_csv(f'test_random_subtract_{seed}.csv')\n",
    "# df_wrong = pd.read_csv(f'test_random_subtract_{seed}_wrong.csv')\n",
    "# \n",
    "# cols_df1 = [col for col in df.columns if 'equation_' in col]\n",
    "# cols_df2 = [col for col in df_wrong.columns if 'equation_' in col]\n",
    "# \n",
    "# filtered_df1 = df[cols_df1]\n",
    "# filtered_df2 = df_wrong[cols_df2]\n",
    "# \n",
    "# are_equal = filtered_df1.equals(filtered_df2)\n",
    "# \n",
    "# print(f\"The filtered DataFrames are {'the same' if are_equal else 'different'}.\")"
   ],
   "id": "136948ea-594c-4a5b-8c35-3ed032444930",
   "outputs": [
    {
     "name": "stdout",
     "output_type": "stream",
     "text": [
      "The filtered DataFrames are the same.\n"
     ]
    }
   ],
   "execution_count": 18
  },
  {
   "metadata": {
    "ExecuteTime": {
     "end_time": "2024-07-28T21:41:22.342758Z",
     "start_time": "2024-07-28T21:41:22.341436Z"
    }
   },
   "cell_type": "code",
   "source": [
    "# for i, row in df.iterrows():\n",
    "#     for base in range(2, len(utils.DIGITS)+1):\n",
    "#         if utils.calculate(row[f'equation_{{{base}}}']) != row[f'answer_{{{base}}}']:\n",
    "#             print(utils.calculate(row[f'equation_{{{base}}}']))\n",
    "#             print(row[f'answer_{{{base}}}'])\n",
    "#             raise ValueError(f\"row[f'equation_{{{base}}}'] != row[f'answer_{{{base}}}']\")"
   ],
   "id": "f3a84e1c65e7ab72",
   "outputs": [],
   "execution_count": 5
  },
  {
   "metadata": {
    "ExecuteTime": {
     "end_time": "2024-07-28T21:41:22.344802Z",
     "start_time": "2024-07-28T21:41:22.343421Z"
    }
   },
   "cell_type": "code",
   "source": [
    "# def check_correctness_in_base(a, b, base):\n",
    "#     a = a[::-1]\n",
    "#     b = b[::-1]\n",
    "# \n",
    "#     carry = 0\n",
    "#     result = []\n",
    "#     # Perform addition digit by digit\n",
    "#     for i in range(max(len(a), len(b))):\n",
    "#         digit_sum = carry\n",
    "#         if i < len(a):\n",
    "#             digit_sum += (a[i])\n",
    "#         if i < len(b):\n",
    "#             digit_sum += int(b[i], base)\n",
    "#         carry = digit_sum // base\n",
    "#         digit_sum %= base\n",
    "#         result.append(str(digit_sum))\n",
    "# \n",
    "#     # Add the last carry if there's any\n",
    "#     if carry:\n",
    "#         result.append(str(carry))\n",
    "# \n",
    "#     # Reverse the result to get the correct order\n",
    "#     result = ''.join(result[::-1])\n",
    "# \n",
    "#     return result"
   ],
   "id": "50227a11-b32e-472e-9c8c-ce38011f8538",
   "outputs": [],
   "execution_count": 6
  }
 ],
 "metadata": {
  "kernelspec": {
   "display_name": "Python 3 (ipykernel)",
   "language": "python",
   "name": "python3"
  },
  "language_info": {
   "codemirror_mode": {
    "name": "ipython",
    "version": 3
   },
   "file_extension": ".py",
   "mimetype": "text/x-python",
   "name": "python",
   "nbconvert_exporter": "python",
   "pygments_lexer": "ipython3",
   "version": "3.11.8"
  }
 },
 "nbformat": 4,
 "nbformat_minor": 5
}
